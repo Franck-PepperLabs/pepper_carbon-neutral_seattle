{
 "cells": [
  {
   "cell_type": "markdown",
   "metadata": {},
   "source": [
    "# Représentation géo cartographique\n",
    "\n",
    "https://geopandas.org/en/stable/getting_started/introduction.html\n",
    "\n",
    "TODO : Ce n'est pas ici, mais dans ma pratique qu'il faut mettre cette partie.\n",
    "\n",
    "TODO : Ici, il ne faut que l'application à Seattle.\n",
    "\n",
    "TODO : lors de ma dernière tentative, je me suis cassé les dents (3 h perdues) sur l'installation sous Windows des dépendances natives pour les systèmes unix. Il faudra soit reprendre en zoomant sur GDAL et Fiona, ou décider de basculer sous Unix, mais j'avoue ne pas trop apprécier être plate-forme dépendant."
   ]
  },
  {
   "cell_type": "code",
   "execution_count": null,
   "metadata": {},
   "outputs": [],
   "source": []
  }
 ],
 "metadata": {
  "kernelspec": {
   "display_name": "Python 3.9.12 ('base')",
   "language": "python",
   "name": "python3"
  },
  "language_info": {
   "name": "python",
   "version": "3.9.12"
  },
  "orig_nbformat": 4,
  "vscode": {
   "interpreter": {
    "hash": "e03b612d84ba21ce95ed447e81b3062e1eb99b56c6d885cdab4aaa12f1b8e240"
   }
  }
 },
 "nbformat": 4,
 "nbformat_minor": 2
}
