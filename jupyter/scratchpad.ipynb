{
 "cells": [
  {
   "cell_type": "markdown",
   "metadata": {},
   "source": [
    "# 11/09 - Zoom sur les surfaces et structures\n",
    "\n",
    "Il est bien connu que chauffer un appartement dans un immeuble est moins coûteux que pour une maison individuelle, puisque la chaleur des appartements voisins contribue à limiter le gradient de température avec l'extérieur et limiter les pertes énergétiques.\n",
    "\n",
    "Une structure plutôt plate aura tendance à perdre plus de chaleur qu'une structure en immeuble, verticale.\n",
    "\n",
    "\n",
    "\n"
   ]
  },
  {
   "cell_type": "markdown",
   "metadata": {},
   "source": [
    "# Les remarquables (outliers atypiques (= hors norme non aberrants))"
   ]
  }
 ],
 "metadata": {
  "kernelspec": {
   "display_name": "Python 3.9.12 ('base')",
   "language": "python",
   "name": "python3"
  },
  "language_info": {
   "codemirror_mode": {
    "name": "ipython",
    "version": 3
   },
   "file_extension": ".py",
   "mimetype": "text/x-python",
   "name": "python",
   "nbconvert_exporter": "python",
   "pygments_lexer": "ipython3",
   "version": "3.9.12"
  },
  "orig_nbformat": 4,
  "vscode": {
   "interpreter": {
    "hash": "e03b612d84ba21ce95ed447e81b3062e1eb99b56c6d885cdab4aaa12f1b8e240"
   }
  }
 },
 "nbformat": 4,
 "nbformat_minor": 2
}
